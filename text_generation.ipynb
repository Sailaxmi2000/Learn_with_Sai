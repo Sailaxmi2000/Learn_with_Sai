{
 "cells": [
  {
   "cell_type": "code",
   "execution_count": null,
   "metadata": {},
   "outputs": [],
   "source": []
  },
  {
   "cell_type": "code",
   "execution_count": 28,
   "metadata": {},
   "outputs": [],
   "source": [
    "import openai\n"
   ]
  },
  {
   "cell_type": "code",
   "execution_count": 29,
   "metadata": {},
   "outputs": [],
   "source": [
    "from openai import OpenAI\n"
   ]
  },
  {
   "cell_type": "code",
   "execution_count": 31,
   "metadata": {},
   "outputs": [],
   "source": [
    "import os\n",
    "from dotenv import load_dotenv \n",
    "load_dotenv()\n",
    "api_key=os.getenv(\"Openai_api_key\")\n",
    "client=OpenAI()"
   ]
  },
  {
   "cell_type": "code",
   "execution_count": 32,
   "metadata": {},
   "outputs": [],
   "source": [
    "no_of_recipes=input(\"No of recipes:\")\n",
    "ingredients = input(\"List of ingredients: \")\n",
    "filter = input(\"Filter (for example, vegetarian, vegan, or gluten-free): \")\n",
    "prompt = f\"Show me {no_of_recipes} recipes for a dish with the following ingredients: {ingredients}. Per recipe, list all the ingredients used, no {filter}\""
   ]
  },
  {
   "cell_type": "code",
   "execution_count": 33,
   "metadata": {},
   "outputs": [],
   "source": [
    "completion = client.chat.completions.create(\n",
    "    model=\"gpt-4o\",\n",
    "    messages=[\n",
    "        {\n",
    "            \"role\": \"user\",\n",
    "            \"content\": prompt\n",
    "        }\n",
    "    ]\n",
    ")"
   ]
  },
  {
   "cell_type": "code",
   "execution_count": 34,
   "metadata": {},
   "outputs": [
    {
     "name": "stdout",
     "output_type": "stream",
     "text": [
      "Shopping list:\n",
      "Here's a consolidated shopping list for all three recipes, taking into account the overlap of ingredients:\n",
      "\n",
      "### Produce:\n",
      "- 6 ripe bananas\n",
      "\n",
      "### Dairy:\n",
      "- 5 cups milk\n",
      "- Butter (if you don't already have it)\n",
      "\n",
      "### Baking:\n",
      "- 1 cup all-purpose flour\n",
      "- 1 tablespoon sugar\n",
      "- 1 teaspoon baking powder\n",
      "- 3 tablespoons cornstarch\n",
      "- 1/2 teaspoon salt\n",
      "- 1/4 teaspoon salt (for pudding)\n",
      "\n",
      "### Sweeteners and Flavorings:\n",
      "- Honey or sugar (depending on your preference for the milkshake; optional)\n",
      "- 1/2 teaspoon vanilla extract (for the milkshake; optional)\n",
      "- 1 teaspoon vanilla extract (for the pudding)\n",
      "\n",
      "### Eggs:\n",
      "- 2 eggs\n",
      "\n",
      "### Optional Items:\n",
      "- Ice cubes (for the milkshake, if desired)\n",
      "- Whipped cream (for the pudding, if desired)\n",
      "- Vanilla wafers (for the pudding, if desired)\n",
      "- Oil (for cooking pancakes, if not using butter)\n",
      "\n",
      "This list should cover all the necessary items to create the banana milkshake, banana pancakes, and banana pudding. Adjust quantities based on your needs and preferences. Enjoy cooking!\n"
     ]
    }
   ],
   "source": [
    "old_prompt_result = completion.choices[0].message.content\n",
    "prompt = \"Produce a shopping list for the generated recipes \"\n",
    "\n",
    "new_prompt = f\"{old_prompt_result} {prompt}\"\n",
    "\n",
    "completion = client.chat.completions.create(\n",
    "    model=\"gpt-4o\",\n",
    "    messages=[\n",
    "        {\n",
    "            \"role\": \"user\",\n",
    "            \"content\": new_prompt\n",
    "        }\n",
    "    ]\n",
    ")\n",
    "\n",
    "# print response\n",
    "print(\"Shopping list:\")\n",
    "print(completion.choices[0].message.content)"
   ]
  }
 ],
 "metadata": {
  "kernelspec": {
   "display_name": "text_gen",
   "language": "python",
   "name": "python3"
  },
  "language_info": {
   "codemirror_mode": {
    "name": "ipython",
    "version": 3
   },
   "file_extension": ".py",
   "mimetype": "text/x-python",
   "name": "python",
   "nbconvert_exporter": "python",
   "pygments_lexer": "ipython3",
   "version": "3.13.2"
  }
 },
 "nbformat": 4,
 "nbformat_minor": 2
}
